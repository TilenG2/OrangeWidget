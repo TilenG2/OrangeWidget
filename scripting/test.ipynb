{
 "cells": [
  {
   "cell_type": "code",
   "execution_count": 26,
   "metadata": {},
   "outputs": [],
   "source": [
    "import Orange\n",
    "import numpy as np\n",
    "import pandas as pd"
   ]
  },
  {
   "cell_type": "code",
   "execution_count": 27,
   "metadata": {},
   "outputs": [],
   "source": [
    "from Orange.data import Table\n",
    "def sample_data(data, samples_per_class = 20):\n",
    "    for i, value in enumerate(np.unique(data.Y)):\n",
    "        indices, = np.where(data.Y == value)\n",
    "        data_per_class = data[indices]\n",
    "        sampled_data_class = data_per_class[np.random.choice(len(data_per_class), size=samples_per_class, replace=False)]\n",
    "        if i == 0:\n",
    "            sampled_data = sampled_data_class\n",
    "        else:\n",
    "            sampled_data = Table.concatenate((sampled_data, sampled_data_class))\n",
    "    return sampled_data"
   ]
  },
  {
   "cell_type": "code",
   "execution_count": 28,
   "metadata": {},
   "outputs": [],
   "source": [
    "from Orange.data import Table, Domain, ContinuousVariable, DiscreteVariable\n",
    "def load_data(number_features = 1, error = 1):\n",
    "    world = pd.read_csv(f'../data/{number_features}_feature/{number_features}feat_0seed_{error}err_obs-unc-tru.csv')\n",
    "    X = np.column_stack([world[f\"Observed Value {i+1}\"] for i in range(number_features)])\n",
    "    Y = np.array(world[\"Class\"])\n",
    "    M = np.column_stack([world[f\"Uncertainty {i+1}\"] for i in range(number_features)])\n",
    "    Xtv = np.column_stack([world[f\"True Value {i+1}\"] for i in range(number_features)])\n",
    "    \n",
    "    domain = Domain(\n",
    "        attributes = [ContinuousVariable(f\"Observed Value {i+1}\") for i in range(number_features)],\n",
    "        class_vars = DiscreteVariable(\"Class\", values=[str(i) for i in range(max(Y+1))]),\n",
    "        metas = [ContinuousVariable(f\"Uncertainty {i+1}\") for i in range(number_features)]\n",
    "    )\n",
    "    data = Table.from_numpy(domain, X=X, Y=Y, metas=M)\n",
    "    \n",
    "    domain = Domain(\n",
    "        attributes = [ContinuousVariable(f\"Observed Value {i+1}\") for i in range(number_features)],\n",
    "        class_vars = DiscreteVariable(\"Class\", values=[str(i) for i in range(max(Y+1))])\n",
    "    )\n",
    "    # X = tv1.reshape(-1, 1)\n",
    "    test_data = Table.from_numpy(domain, X=Xtv, Y=Y)\n",
    "    return data, test_data\n",
    "    "
   ]
  },
  {
   "cell_type": "code",
   "execution_count": 29,
   "metadata": {},
   "outputs": [
    {
     "data": {
      "text/plain": [
       "[[-0.420057, 0.58984, -1.39719 | 0] {0.0311298, 0.87465, 0.999956},\n",
       " [-0.81707, 0.163862, -0.272897 | 0] {0.361953, 0.740208, 0.0812085},\n",
       " [-1.46467, 0.821579, -0.838727 | 0] {0.902254, 0.929806, 0.80239},\n",
       " [-0.965303, -0.304932, -0.385335 | 0] {0.348744, 0.0966572, 0.0857702},\n",
       " [-0.440521, 0.485449, -1.19095 | 0] {0.00856598, 0.559853, 0.261984},\n",
       " ...\n",
       "]"
      ]
     },
     "execution_count": 29,
     "metadata": {},
     "output_type": "execute_result"
    }
   ],
   "source": [
    "data, test_data = load_data(3)\n",
    "data"
   ]
  },
  {
   "cell_type": "code",
   "execution_count": 30,
   "metadata": {},
   "outputs": [
    {
     "data": {
      "text/plain": [
       "[[-0.451186, -0.284811, -0.397237 | 0],\n",
       " [-0.455117, -0.576345, -0.354106 | 0],\n",
       " [-0.562413, -0.108227, -0.0363372 | 0],\n",
       " [-0.616558, -0.208275, -0.471105 | 0],\n",
       " [-0.431955, -0.0744034, -0.928964 | 0],\n",
       " ...\n",
       "]"
      ]
     },
     "execution_count": 30,
     "metadata": {},
     "output_type": "execute_result"
    }
   ],
   "source": [
    "test_data"
   ]
  },
  {
   "cell_type": "code",
   "execution_count": 31,
   "metadata": {},
   "outputs": [],
   "source": [
    "from trees.util.uncertaintreelearner import UncertainTreeLearner\n",
    "from trees.util.uncertainforestutil import UncertainForestLearner\n",
    "from trees.owtree import ClassificationTreeLearner"
   ]
  },
  {
   "cell_type": "code",
   "execution_count": 32,
   "metadata": {},
   "outputs": [],
   "source": [
    "post_hoc = UncertainTreeLearner(max_depth=None, min_samples_leaf=2, min_samples_split=4, sufficient_majority=0.90, post_hoc=True)\n",
    "forward = UncertainTreeLearner(max_depth=None, min_samples_leaf=2, min_samples_split=4, sufficient_majority=0.90, post_hoc=False)\n",
    "skl_tree = ClassificationTreeLearner(max_depth=None, min_samples_leaf=2, min_samples_split=4, sufficient_majority=0.90)\n",
    "uncertain_forest10 = UncertainForestLearner(n_trees=10)\n",
    "uncertain_forest100 = UncertainForestLearner(n_trees=100)"
   ]
  },
  {
   "cell_type": "code",
   "execution_count": 17,
   "metadata": {},
   "outputs": [
    {
     "name": "stdout",
     "output_type": "stream",
     "text": [
      "1 Feature, Error 0.1\n",
      "skl_tree  0.976\n",
      "forward   0.976 *min number of instances in leaf no work\n",
      "post_hoc  0.976\n",
      "forest10  0.975\n",
      "forest100 0.977\n",
      "1 Feature, Error 0.2\n",
      "skl_tree  0.96\n",
      "forward   0.961 *min number of instances in leaf no work\n",
      "post_hoc  0.962\n",
      "forest10  0.958\n",
      "forest100 0.96\n",
      "1 Feature, Error 0.4\n",
      "skl_tree  0.905\n",
      "forward   0.938 *min number of instances in leaf no work\n",
      "post_hoc  0.94\n",
      "forest10  0.946\n",
      "forest100 0.952\n",
      "1 Feature, Error 0.6\n",
      "skl_tree  0.847\n",
      "forward   0.893 *min number of instances in leaf no work\n",
      "post_hoc  0.913\n",
      "forest10  0.91\n",
      "forest100 0.914\n",
      "1 Feature, Error 0.8\n",
      "skl_tree  0.798\n",
      "forward   0.88 *min number of instances in leaf no work\n",
      "post_hoc  0.886\n",
      "forest10  0.916\n",
      "forest100 0.923\n",
      "1 Feature, Error 1\n",
      "skl_tree  0.681\n",
      "forward   0.841 *min number of instances in leaf no work\n",
      "post_hoc  0.896\n",
      "forest10  0.918\n",
      "forest100 0.921\n",
      "1 Feature, Error 1.2\n",
      "skl_tree  0.611\n",
      "forward   0.788 *min number of instances in leaf no work\n",
      "post_hoc  0.867\n",
      "forest10  0.909\n",
      "forest100 0.917\n",
      "1 Feature, Error 1.4\n",
      "skl_tree  0.603\n",
      "forward   0.764 *min number of instances in leaf no work\n",
      "post_hoc  0.893\n",
      "forest10  0.925\n",
      "forest100 0.945\n",
      "1 Feature, Error 1.6\n",
      "skl_tree  0.49\n",
      "forward   0.645 *min number of instances in leaf no work\n",
      "post_hoc  0.864\n",
      "forest10  0.92\n",
      "forest100 0.926\n",
      "-----------\n",
      "2 Feature, Error 0.1\n",
      "skl_tree  0.962\n",
      "forward   0.964 *min number of instances in leaf no work\n",
      "post_hoc  0.965\n",
      "forest10  0.966\n",
      "forest100 0.967\n",
      "2 Feature, Error 0.2\n",
      "skl_tree  0.928\n",
      "forward   0.933 *min number of instances in leaf no work\n",
      "post_hoc  0.937\n",
      "forest10  0.942\n",
      "forest100 0.945\n",
      "2 Feature, Error 0.4\n",
      "skl_tree  0.846\n",
      "forward   0.867 *min number of instances in leaf no work\n",
      "post_hoc  0.867\n",
      "forest10  0.886\n",
      "forest100 0.901\n",
      "2 Feature, Error 0.6\n",
      "skl_tree  0.747\n",
      "forward   0.827 *min number of instances in leaf no work\n",
      "post_hoc  0.815\n",
      "forest10  0.848\n",
      "forest100 0.875\n",
      "2 Feature, Error 0.8\n",
      "skl_tree  0.628\n",
      "forward   0.718 *min number of instances in leaf no work\n",
      "post_hoc  0.731\n",
      "forest10  0.811\n",
      "forest100 0.841\n",
      "2 Feature, Error 1\n",
      "skl_tree  0.51\n",
      "forward   0.65 *min number of instances in leaf no work\n",
      "post_hoc  0.685\n",
      "forest10  0.775\n",
      "forest100 0.82\n",
      "2 Feature, Error 1.2\n",
      "skl_tree  0.424\n",
      "forward   0.577 *min number of instances in leaf no work\n",
      "post_hoc  0.599\n",
      "forest10  0.73\n",
      "forest100 0.774\n",
      "2 Feature, Error 1.4\n",
      "skl_tree  0.322\n",
      "forward   0.483 *min number of instances in leaf no work\n",
      "post_hoc  0.562\n",
      "forest10  0.698\n",
      "forest100 0.737\n",
      "2 Feature, Error 1.6\n",
      "skl_tree  0.276\n",
      "forward   0.425 *min number of instances in leaf no work\n",
      "post_hoc  0.525\n",
      "forest10  0.637\n",
      "forest100 0.694\n",
      "-----------\n",
      "3 Feature, Error 0.1\n",
      "skl_tree  0.944\n",
      "forward   0.947 *min number of instances in leaf no work\n",
      "post_hoc  0.95\n",
      "forest10  0.953\n",
      "forest100 0.956\n",
      "3 Feature, Error 0.2\n",
      "skl_tree  0.885\n",
      "forward   0.894 *min number of instances in leaf no work\n",
      "post_hoc  0.898\n",
      "forest10  0.921\n",
      "forest100 0.928\n",
      "3 Feature, Error 0.4\n",
      "skl_tree  0.757\n",
      "forward   0.798 *min number of instances in leaf no work\n",
      "post_hoc  0.791\n",
      "forest10  0.854\n",
      "forest100 0.874\n",
      "3 Feature, Error 0.6\n",
      "skl_tree  0.622\n",
      "forward   0.713 *min number of instances in leaf no work\n",
      "post_hoc  0.682\n",
      "forest10  0.779\n",
      "forest100 0.818\n",
      "3 Feature, Error 0.8\n",
      "skl_tree  0.492\n",
      "forward   0.607 *min number of instances in leaf no work\n",
      "post_hoc  0.563\n",
      "forest10  0.707\n",
      "forest100 0.768\n",
      "3 Feature, Error 1\n",
      "skl_tree  0.37\n",
      "forward   0.516 *min number of instances in leaf no work\n",
      "post_hoc  0.479\n",
      "forest10  0.633\n",
      "forest100 0.704\n",
      "3 Feature, Error 1.2\n",
      "skl_tree  0.267\n",
      "forward   0.398 *min number of instances in leaf no work\n",
      "post_hoc  0.406\n",
      "forest10  0.559\n",
      "forest100 0.635\n",
      "3 Feature, Error 1.4\n",
      "skl_tree  0.192\n",
      "forward   0.336 *min number of instances in leaf no work\n",
      "post_hoc  0.333\n",
      "forest10  0.501\n",
      "forest100 0.577\n",
      "3 Feature, Error 1.6\n",
      "skl_tree  0.176\n",
      "forward   0.288 *min number of instances in leaf no work\n",
      "post_hoc  0.312\n",
      "forest10  0.438\n",
      "forest100 0.522\n",
      "-----------\n"
     ]
    }
   ],
   "source": [
    "from Orange.evaluation import TestOnTestData\n",
    "from Orange.evaluation.scoring import CA\n",
    "rep = 33\n",
    "for i in range(3):\n",
    "    i += 1\n",
    "    for err in [0.1, 0.2, 0.4, 0.6, 0.8, 1, 1.2, 1.4, 1.6]:\n",
    "        data, test_data = load_data(i, error=err)\n",
    "        average_CA = np.array([0, 0, 0, 0, 0], dtype=\"float64\")\n",
    "        for _ in range(rep):\n",
    "            res = TestOnTestData(data=sample_data(data, 20), test_data=test_data, learners=[skl_tree, forward, post_hoc, uncertain_forest10, uncertain_forest100])\n",
    "            average_CA += CA(res)\n",
    "        print(f\"\"\"{i} Feature, Error {err}\n",
    "skl_tree  {round(average_CA[0]/rep, 3)}\n",
    "forward   {round(average_CA[1]/rep, 3)} *min number of instances in leaf no work\n",
    "post_hoc  {round(average_CA[2]/rep, 3)}\n",
    "forest10  {round(average_CA[3]/rep, 3)}\n",
    "forest100 {round(average_CA[4]/rep, 3)}\"\"\")    \n",
    "    print(\"-----------\")"
   ]
  },
  {
   "cell_type": "code",
   "execution_count": 33,
   "metadata": {},
   "outputs": [
    {
     "data": {
      "text/html": [
       "\n",
       "    <style>\n",
       "        .progress .progress-bar {\n",
       "            background-color: #f60 !important; /* Change the progress bar background color to black */\n",
       "        }\n",
       "    </style>\n"
      ],
      "text/plain": [
       "<IPython.core.display.HTML object>"
      ]
     },
     "metadata": {},
     "output_type": "display_data"
    },
    {
     "name": "stdout",
     "output_type": "stream",
     "text": [
      "0\n"
     ]
    },
    {
     "data": {
      "application/vnd.jupyter.widget-view+json": {
       "model_id": "5d3cf8bcc1d14e1ca2fdb6bd2ccf7603",
       "version_major": 2,
       "version_minor": 0
      },
      "text/plain": [
       "IntProgress(value=0)"
      ]
     },
     "metadata": {},
     "output_type": "display_data"
    },
    {
     "name": "stdout",
     "output_type": "stream",
     "text": [
      "1\n"
     ]
    },
    {
     "data": {
      "application/vnd.jupyter.widget-view+json": {
       "model_id": "f019b5a300e240ce92aaacc289e07f14",
       "version_major": 2,
       "version_minor": 0
      },
      "text/plain": [
       "IntProgress(value=0)"
      ]
     },
     "metadata": {},
     "output_type": "display_data"
    },
    {
     "name": "stdout",
     "output_type": "stream",
     "text": [
      "2\n"
     ]
    },
    {
     "data": {
      "application/vnd.jupyter.widget-view+json": {
       "model_id": "bd840c7936e1426cb0cae91756f20c42",
       "version_major": 2,
       "version_minor": 0
      },
      "text/plain": [
       "IntProgress(value=0)"
      ]
     },
     "metadata": {},
     "output_type": "display_data"
    }
   ],
   "source": [
    "from ipywidgets import IntProgress\n",
    "from IPython.display import display\n",
    "import time\n",
    "from IPython.core.display import HTML\n",
    "\n",
    "# Custom CSS to change the background color of the progress bar\n",
    "display(HTML(\"\"\"\n",
    "    <style>\n",
    "        .progress .progress-bar {\n",
    "            background-color: #f60 !important; /* Change the progress bar background color to black */\n",
    "        }\n",
    "    </style>\n",
    "\"\"\"))\n",
    "\n",
    "for i in range(3):\n",
    "    print(i)\n",
    "    max_count = 100\n",
    "\n",
    "    f = IntProgress(min=0, max=max_count)  # instantiate the bar\n",
    "    display(f)  # display the bar\n",
    "\n",
    "    count = 0\n",
    "    while count <= max_count:\n",
    "        f.value += 1  # signal to increment the progress bar\n",
    "        time.sleep(0.1)\n",
    "        count += 1"
   ]
  },
  {
   "cell_type": "code",
   "execution_count": 41,
   "metadata": {},
   "outputs": [
    {
     "data": {
      "application/vnd.jupyter.widget-view+json": {
       "model_id": "6d1932e2c57c4e15a38e7668ef8a50a0",
       "version_major": 2,
       "version_minor": 0
      },
      "text/plain": [
       "Feature:   0%|          | 0/100 [00:00<?, ?it/s]"
      ]
     },
     "metadata": {},
     "output_type": "display_data"
    },
    {
     "data": {
      "application/vnd.jupyter.widget-view+json": {
       "model_id": "e67c84ab8f7842e6a630758aad900e05",
       "version_major": 2,
       "version_minor": 0
      },
      "text/plain": [
       "Feature:   0%|          | 0/100 [00:00<?, ?it/s]"
      ]
     },
     "metadata": {},
     "output_type": "display_data"
    },
    {
     "ename": "KeyboardInterrupt",
     "evalue": "",
     "output_type": "error",
     "traceback": [
      "\u001b[0;31m---------------------------------------------------------------------------\u001b[0m",
      "\u001b[0;31mKeyboardInterrupt\u001b[0m                         Traceback (most recent call last)",
      "Cell \u001b[0;32mIn [41], line 7\u001b[0m\n\u001b[1;32m      5\u001b[0m b\u001b[38;5;241m.\u001b[39mreset()\n\u001b[1;32m      6\u001b[0m \u001b[38;5;28;01mfor\u001b[39;00m i \u001b[38;5;129;01min\u001b[39;00m \u001b[38;5;28mrange\u001b[39m(\u001b[38;5;241m100\u001b[39m):\n\u001b[0;32m----> 7\u001b[0m     \u001b[43mtime\u001b[49m\u001b[38;5;241;43m.\u001b[39;49m\u001b[43msleep\u001b[49m\u001b[43m(\u001b[49m\u001b[38;5;241;43m.01\u001b[39;49m\u001b[43m)\u001b[49m\n\u001b[1;32m      8\u001b[0m     b\u001b[38;5;241m.\u001b[39mupdate()\n\u001b[1;32m      9\u001b[0m a\u001b[38;5;241m.\u001b[39mupdate()\n",
      "\u001b[0;31mKeyboardInterrupt\u001b[0m: "
     ]
    }
   ],
   "source": [
    "from tqdm.notebook import tqdm\n",
    "a = tqdm(total=100, desc=\"Feature\")\n",
    "b = tqdm(total=100, desc=\"Feature\")\n",
    "for i in range(100):\n",
    "    b.reset()\n",
    "    for i in range(100):\n",
    "        time.sleep(.01)\n",
    "        b.update()\n",
    "    a.update()"
   ]
  },
  {
   "cell_type": "code",
   "execution_count": null,
   "metadata": {},
   "outputs": [],
   "source": []
  }
 ],
 "metadata": {
  "kernelspec": {
   "display_name": "Python 3",
   "language": "python",
   "name": "python3"
  },
  "language_info": {
   "codemirror_mode": {
    "name": "ipython",
    "version": 3
   },
   "file_extension": ".py",
   "mimetype": "text/x-python",
   "name": "python",
   "nbconvert_exporter": "python",
   "pygments_lexer": "ipython3",
   "version": "3.10.12"
  }
 },
 "nbformat": 4,
 "nbformat_minor": 2
}
