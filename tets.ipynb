{
 "cells": [
  {
   "cell_type": "code",
   "execution_count": 3,
   "id": "1ca0cad6",
   "metadata": {},
   "outputs": [],
   "source": [
    "import numpy as np"
   ]
  },
  {
   "cell_type": "code",
   "execution_count": null,
   "id": "c805c4f5",
   "metadata": {},
   "outputs": [],
   "source": [
    "feature_with_metas = np.array([\n",
    "    [-8.86598143e-01,  6.46814240e-04],\n",
    "    [-8.09999379e-01,  7.68525750e-02],\n",
    "    [-6.93705773e-01,  1.46448180e-01],\n",
    "    [-6.15544094e-01,  1.32891530e-02],\n",
    "    [-4.52920856e-01,  3.50182170e-02],\n",
    "    [-4.29005897e-01,  5.74180740e-02],\n",
    "    [-3.68814595e-01,  1.76863940e-01],\n",
    "    [-3.20299937e-01,  1.87530050e-02],\n",
    "    [-2.30473503e-01,  1.00257080e-01],\n",
    "    [-1.61500438e-01,  1.11933370e-01],\n",
    "    [ 1.49499947e-01,  1.38036730e-01],\n",
    "    [ 2.44274286e-01,  6.14120660e-02],\n",
    "    [ 4.36228809e-01,  4.65435100e-02],\n",
    "    [ 6.00516998e-01,  4.55345000e-04],\n",
    "    [ 6.31583019e-01,  1.59646530e-01],\n",
    "    [ 6.64658997e-01,  1.43022660e-01],\n",
    "    [ 6.85445512e-01,  1.10427410e-01],\n",
    "    [ 7.90034959e-01,  9.47996700e-02],\n",
    "    [ 8.70245150e-01,  6.83111200e-03],\n",
    "    [ 8.81192128e-01,  1.90936060e-01],])\n",
    "cut = 0.007051434576610505"
   ]
  }
 ],
 "metadata": {
  "kernelspec": {
   "display_name": ".python-global",
   "language": "python",
   "name": "python3"
  },
  "language_info": {
   "codemirror_mode": {
    "name": "ipython",
    "version": 3
   },
   "file_extension": ".py",
   "mimetype": "text/x-python",
   "name": "python",
   "nbconvert_exporter": "python",
   "pygments_lexer": "ipython3",
   "version": "3.12.3"
  }
 },
 "nbformat": 4,
 "nbformat_minor": 5
}
